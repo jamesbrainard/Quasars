{
 "cells": [
  {
   "cell_type": "code",
   "execution_count": 25,
   "metadata": {},
   "outputs": [
    {
     "name": "stdout",
     "output_type": "stream",
     "text": [
      "Size of dataset before filtering:\n",
      "(750414, 507)\n",
      "Size of dataset after filtering for:\n",
      "'IS_QSO_FINAL' == '1'\n",
      "(749749, 507)\n"
     ]
    }
   ],
   "source": [
    "import pandas\n",
    "import numpy\n",
    "\n",
    "data = pandas.read_csv(\"data/Lyke2020.csv\")\n",
    "\n",
    "# Display the shape of the dataset to check how many rows\n",
    "print(\"Size of dataset before filtering:\")\n",
    "print(data.shape)\n",
    "\n",
    "filtered_data = data[\n",
    "    (data['IS_QSO_FINAL'] == 1)\n",
    "]\n",
    "\n",
    "# Display the shape of the filtered dataset to check how many rows remain\n",
    "print(\"Size of dataset after filtering for:\")\n",
    "print(\"\\'IS_QSO_FINAL\\' == \\'1\\'\")\n",
    "print(filtered_data.shape)"
   ]
  },
  {
   "cell_type": "code",
   "execution_count": 26,
   "metadata": {},
   "outputs": [
    {
     "name": "stderr",
     "output_type": "stream",
     "text": [
      "C:\\Users\\james\\AppData\\Local\\Temp\\ipykernel_5732\\1208833321.py:2: UserWarning: Boolean Series key will be reindexed to match DataFrame index.\n",
      "  filtered_data = filtered_data[\n"
     ]
    },
    {
     "name": "stdout",
     "output_type": "stream",
     "text": [
      "Size of dataset after filtering for:\n",
      "'BAL_PROB' == '1' or 'BAL_PROB' == '0'\n",
      "(336523, 507)\n"
     ]
    }
   ],
   "source": [
    "# Drop rows with ambiguous BAL_PROB\n",
    "filtered_data = filtered_data[\n",
    "    (data['BAL_PROB'] == 1) | (data['BAL_PROB'] == 0)\n",
    "]\n",
    "\n",
    "# Display the shape of the filtered dataset to check how many rows remain\n",
    "print(\"Size of dataset after filtering for:\")\n",
    "print(\"\\'BAL_PROB\\' == \\'1\\' or \\'BAL_PROB\\' == \\'0\\'\")\n",
    "print(filtered_data.shape)"
   ]
  },
  {
   "cell_type": "code",
   "execution_count": 27,
   "metadata": {},
   "outputs": [
    {
     "name": "stdout",
     "output_type": "stream",
     "text": [
      "Size of dataset after dropping:\n",
      "All columns including string 'DUPLICATE'\n",
      "(336523, 211)\n"
     ]
    }
   ],
   "source": [
    "# Drop columns that contain \"DUPLICATE\" in their name\n",
    "filtered_data = filtered_data.loc[:, ~filtered_data.columns.str.contains('DUPLICATE')]\n",
    "\n",
    "print(\"Size of dataset after dropping:\")\n",
    "print(\"All columns including string \\'DUPLICATE\\'\")\n",
    "print(filtered_data.shape)"
   ]
  },
  {
   "cell_type": "code",
   "execution_count": 28,
   "metadata": {},
   "outputs": [
    {
     "name": "stdout",
     "output_type": "stream",
     "text": [
      "Size of dataset after dropping the following columns:\n",
      "['IS_QSO_QN', 'IS_QSO_10K', 'CLASS_PERSON', 'IS_QSO_DR12Q', 'IS_QSO_DR7Q', 'BOSS_TARGET1', 'EBOSS_TARGET0', 'EBOSS_TARGET1', 'EBOSS_TARGET2', 'ANCILLARY_TARGET1', 'ANCILLARY_TARGET2', 'NSPEC_SDSS', 'NSPEC_BOSS', 'NSPEC', 'SKYVERSION', 'RUN_NUMBER', 'RERUN_NUMBER', 'CAMCOL_NUMBER', 'FIELD_NUMBER', 'ID_NUMBER', 'XFOCAL', 'YFOCAL', 'CHUNK', 'TILE', '2RXS_ID']\n",
      "(336523, 186)\n"
     ]
    }
   ],
   "source": [
    "# Drop miscellaneous columns\n",
    "columns_to_drop = ['IS_QSO_QN', 'IS_QSO_10K', 'CLASS_PERSON', 'IS_QSO_DR12Q',\n",
    "                   'IS_QSO_DR7Q', 'BOSS_TARGET1', 'EBOSS_TARGET0', 'EBOSS_TARGET1',\n",
    "                   'EBOSS_TARGET2', 'ANCILLARY_TARGET1', 'ANCILLARY_TARGET2', 'NSPEC_SDSS',\n",
    "                   'NSPEC_BOSS', 'NSPEC', 'SKYVERSION', 'RUN_NUMBER',\n",
    "                   'RERUN_NUMBER', 'CAMCOL_NUMBER', 'FIELD_NUMBER', 'ID_NUMBER',\n",
    "                   'XFOCAL', 'YFOCAL', 'CHUNK', 'TILE',\n",
    "                   '2RXS_ID']\n",
    "#ADD RA AND DEC FROM ALL CATALOGS\n",
    "\n",
    "# Drop the specified columns\n",
    "filtered_data = filtered_data.drop(columns=columns_to_drop, axis=1)\n",
    "\n",
    "print(\"Size of dataset after dropping the following columns:\")\n",
    "print(columns_to_drop)\n",
    "print(filtered_data.shape)"
   ]
  },
  {
   "cell_type": "code",
   "execution_count": 29,
   "metadata": {},
   "outputs": [],
   "source": [
    "# REMOVES OUTLIERS FROM ALL SPECIFIED COLUMNS\n",
    "# This is required, since some columns have significant outliers (ex. -9999)\n",
    "\n",
    "# Specify columns to be filtered\n",
    "cols = ['PSFFLUX_0', 'PSFFLUX_1', 'PSFFLUX_2', 'PSFFLUX_3', 'PSFFLUX_4',\n",
    "        'FUV', 'NUV',\n",
    "        'YFLUX', 'JFLUX', 'HFLUX', 'KFLUX',\n",
    "        'W1_FLUX', 'W2_FLUX',\n",
    "        'FIRST_FLUX',\n",
    "        'XMM_SOFT_FLUX', 'XMM_HARD_FLUX',\n",
    "        'GAIA_PARALLAX',\n",
    "        'GAIA_G_FLUX_SNR', 'GAIA_BP_FLUX_SNR', 'GAIA_RP_FLUX_SNR']\n",
    "\n",
    "for col in cols:\n",
    "    # Calculates IQR\n",
    "    Q1 = filtered_data[col].quantile(0.25)\n",
    "    Q3 = filtered_data[col].quantile(0.75)\n",
    "    IQR = Q3 - Q1\n",
    "\n",
    "    # Defines lower and upper bounds to filter out outliers\n",
    "    lower_bound = Q1 - 1.5 * IQR\n",
    "    upper_bound = Q3 + 1.5 * IQR\n",
    "\n",
    "    # Filters the data to replace outliers with NaN\n",
    "    filtered_data[col] = numpy.where((filtered_data[col] < lower_bound) | (filtered_data[col] > upper_bound), numpy.nan, filtered_data[col])"
   ]
  },
  {
   "cell_type": "code",
   "execution_count": 30,
   "metadata": {},
   "outputs": [],
   "source": [
    "#Save the updated data to a new CSV file\n",
    "filtered_data.to_csv('data/Clean_Quasar_Data.csv', index=False)"
   ]
  }
 ],
 "metadata": {
  "kernelspec": {
   "display_name": "quasars",
   "language": "python",
   "name": "python3"
  },
  "language_info": {
   "codemirror_mode": {
    "name": "ipython",
    "version": 3
   },
   "file_extension": ".py",
   "mimetype": "text/x-python",
   "name": "python",
   "nbconvert_exporter": "python",
   "pygments_lexer": "ipython3",
   "version": "3.12.6"
  }
 },
 "nbformat": 4,
 "nbformat_minor": 2
}
